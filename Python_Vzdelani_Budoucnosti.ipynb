{
  "nbformat": 4,
  "nbformat_minor": 0,
  "metadata": {
    "colab": {
      "name": "Python_Vzdelani Budoucnosti.ipynb",
      "provenance": [],
      "collapsed_sections": [],
      "toc_visible": true,
      "include_colab_link": true
    },
    "kernelspec": {
      "name": "python3",
      "display_name": "Python 3"
    }
  },
  "cells": [
    {
      "cell_type": "markdown",
      "metadata": {
        "id": "view-in-github",
        "colab_type": "text"
      },
      "source": [
        "<a href=\"https://colab.research.google.com/github/NovotnyP10/MyFirstProject/blob/master/Python_Vzdelani_Budoucnosti.ipynb\" target=\"_parent\"><img src=\"https://colab.research.google.com/assets/colab-badge.svg\" alt=\"Open In Colab\"/></a>"
      ]
    },
    {
      "cell_type": "markdown",
      "metadata": {
        "id": "hxuE7roYNVLJ"
      },
      "source": [
        "# Lekce 1"
      ]
    },
    {
      "cell_type": "code",
      "metadata": {
        "colab": {
          "base_uri": "https://localhost:8080/"
        },
        "id": "Ql8ujMnkDSLi",
        "outputId": "2c6ecd62-2fb8-4b6c-ac00-9d2e171cab19"
      },
      "source": [
        "a = \"Text\"\r\n",
        "b = 50\r\n",
        "print (a)\r\n",
        "print (b)"
      ],
      "execution_count": null,
      "outputs": [
        {
          "output_type": "stream",
          "text": [
            "Text\n",
            "50\n"
          ],
          "name": "stdout"
        }
      ]
    },
    {
      "cell_type": "code",
      "metadata": {
        "colab": {
          "base_uri": "https://localhost:8080/"
        },
        "id": "MvYHdG18F4B0",
        "outputId": "7984edf0-b790-4a62-cc92-222ac35251d1"
      },
      "source": [
        "cislo1 = 30\r\n",
        "cislo2 = 60\r\n",
        "print (cislo1+cislo2)"
      ],
      "execution_count": null,
      "outputs": [
        {
          "output_type": "stream",
          "text": [
            "90\n"
          ],
          "name": "stdout"
        }
      ]
    },
    {
      "cell_type": "code",
      "metadata": {
        "colab": {
          "base_uri": "https://localhost:8080/"
        },
        "id": "1s7woGB3GP9n",
        "outputId": "d7f83f6a-a1cf-4edd-869d-5379c358df7f"
      },
      "source": [
        "cislo1 = 4\r\n",
        "cislo2 = 8\r\n",
        "suma = cislo1+cislo2\r\n",
        "rozdil = cislo1-cislo2\r\n",
        "print (rozdil) \r\n",
        "print (suma)"
      ],
      "execution_count": null,
      "outputs": [
        {
          "output_type": "stream",
          "text": [
            "-4\n",
            "12\n"
          ],
          "name": "stdout"
        }
      ]
    },
    {
      "cell_type": "code",
      "metadata": {
        "id": "XZF4WC_OG-uV",
        "colab": {
          "base_uri": "https://localhost:8080/"
        },
        "outputId": "c3af21d3-638e-4be0-ccf8-124cdb8a67b6"
      },
      "source": [
        "cislo1 = int(input(\"zadej prvni cislo\"))  #Funkce INT převede textovou hodnotu na numerickou, FLOAT je pak číslo s desetinnou čárkou\r\n",
        "cislo2 = int(input(\"zadeh druhe cislo\"))\r\n",
        "suma = cislo1 + cislo2\r\n",
        "print (suma)"
      ],
      "execution_count": null,
      "outputs": [
        {
          "output_type": "stream",
          "text": [
            "zadej prvni cislo5\n",
            "zadeh druhe cislo2\n",
            "7\n"
          ],
          "name": "stdout"
        }
      ]
    },
    {
      "cell_type": "code",
      "metadata": {
        "id": "EVzhrfhXJHHC"
      },
      "source": [
        "print(\"Nasleduje typ promenne prvni cislo\", type(cislo1))   #Funkce TYPE vypíše typ proměnné"
      ],
      "execution_count": null,
      "outputs": []
    },
    {
      "cell_type": "code",
      "metadata": {
        "id": "w4EgRypRJ2ZK"
      },
      "source": [
        "print(dir(cislo1))"
      ],
      "execution_count": null,
      "outputs": []
    },
    {
      "cell_type": "code",
      "metadata": {
        "id": "shf_gAncKj9y"
      },
      "source": [
        "pes.zastekej()"
      ],
      "execution_count": null,
      "outputs": []
    },
    {
      "cell_type": "code",
      "metadata": {
        "id": "B6X1HaxZK0jM",
        "colab": {
          "base_uri": "https://localhost:8080/"
        },
        "outputId": "51e811c8-aee2-4d14-8829-ec6d97ec2d73"
      },
      "source": [
        "text = \"Abcdefg1123aa\"\r\n",
        "print(text.count(\"a\"))\r\n",
        "print(text.upper())"
      ],
      "execution_count": null,
      "outputs": [
        {
          "output_type": "stream",
          "text": [
            "2\n",
            "ABCDEFG1123AA\n"
          ],
          "name": "stdout"
        }
      ]
    },
    {
      "cell_type": "markdown",
      "metadata": {
        "id": "769k5DnINOhc"
      },
      "source": [
        "# Lekce 2"
      ]
    },
    {
      "cell_type": "code",
      "metadata": {
        "colab": {
          "base_uri": "https://localhost:8080/"
        },
        "id": "l3_LV9EzNS2s",
        "outputId": "0017a360-f840-468b-e3df-5ab8882addec"
      },
      "source": [
        "text = int(input(\"Vlož číslo\"))\r\n",
        "print(text)\r\n",
        "print(type(text))"
      ],
      "execution_count": null,
      "outputs": [
        {
          "output_type": "stream",
          "text": [
            "Vlož číslo5\n",
            "5\n",
            "<class 'str'>\n"
          ],
          "name": "stdout"
        }
      ]
    },
    {
      "cell_type": "code",
      "metadata": {
        "colab": {
          "base_uri": "https://localhost:8080/"
        },
        "id": "RgwgbYzcVEEZ",
        "outputId": "222ff2ca-83bd-4c24-a384-08c1d45e1d78"
      },
      "source": [
        "jmeno = input(\"Zadej své jméno: \")\r\n",
        "prijmeni = input(\"Zadej své příjmení: \")\r\n",
        "vek = int(input(\"Zadej svůj věk: \"))\r\n",
        "print(\"--------------------\")\r\n",
        "print(\"Jméno: \"+jmeno)\r\n",
        "print(\"Příjmení: \"+prijmeni)\r\n",
        "print(\"Věk: \"+str(vek)) \r\n"
      ],
      "execution_count": null,
      "outputs": [
        {
          "output_type": "stream",
          "text": [
            "Zadej své jméno: Petr\n",
            "Zadej své příjmení: Novotný\n",
            "Zadej svůj věk: 32\n",
            "--------------------\n",
            "Jméno: Petr\n",
            "Příjmení: Novotný\n",
            "Věk: 32\n"
          ],
          "name": "stdout"
        }
      ]
    },
    {
      "cell_type": "markdown",
      "metadata": {
        "id": "iwkdjGCEaU2n"
      },
      "source": [
        "Indexování\r\n",
        "![index2.png](data:image/png;base64,iVBORw0KGgoAAAANSUhEUgAAAVkAAACSCAMAAADYdEkqAAAArlBMVEX///8Aoeft9f4AnOb7/f4AmeXf39/x9/+42/b2+v8AnubExMRZtuyy4PcZpeid0vM7sOuh1vQiIiJ7we81rOrs7Ow8PDz39/e0tLRSUlKbm5vj4+PS0tLKyspKSkqRkZEyMjKDg4Oqqqq5ubl3d3ehoaFfX185OTlDQ0MtLS2IiIhnZ2dZWVkeHh4REREnJydwcHBnvu4AAACOzfJhuu3e8vzP6/rB4/eEyfEAiuJye35AAAAJuUlEQVR4nO2dCXeiyhKAy4CdCCYqsdn3HUHRm0xm3v//Y68xmblXYGKbjAlx6jtnzrgUTfNZFM0SAEAQBEEQBEEQBEEQBEEQBEEQBPkb0N71NfJbxGL12tdRYfd8qOu6c64OXQyi8luzW5lJVHrMqkW9js/ZqYtgb5YmJhNoyzRJKPsoTGjkgFOvdC2q7TAhrWkK71O6+sVozJI6jdc6eH6eFpkG29rI/ZWmqoZLI99NM8VigXTj+36dNNMoK7knk5FDGrNxDhC7YBYyJAqhdQCUVV9baapBkYBcR02gTQixWUqDtlHWLAZ5ncZspa43RQFmTVldJbaiA2SN2ei5zpLmBWjllqE302ggbmv6yR0fPI3Z1KCMF7M2Udgq7//M2X/NJmEYJj+rQKi0iy/SQlyvIFwnRNbBVJjZtQ2q65h7s4FMm/dkHR1MYgdRmLuf1N+vg+izDX2SF5kOScbM+jY4uW+qbMQQZz5p3hP/0Kzl+llpfVJ/vxytXS1tP7D67f6XJp65OxdKGiTV31tGrTPuXUZB7H2UWGdYQwyNyPKF7LezBRlOxdZsWb4gswwyiANqz14vy6ws25/v1nrpCluJyAXwa3HkAdRb6wJzdii1ljqXZXZI4wPm9kLMRkMosQfQCxnJD80rgiAIgiAIgiAIgiDIbxAvjs82+sK9MObjYc4ZOB4vJO7Q5Yw3UrjljZwOwu3teMSHNJtKnKHC7R1n5Gg0X/C2encr8M7//rOtNtzzLtgXMjtafrbVBjR7LtDsuUCz5wLNngs0ey4u0+wQBrRo9lx0zP56Lx1+02dWav3/Qtfs7xrtMSv9jGmHds1KnRcvDNPs/YsVaXdossfs3f2LnftDkx2z0m7+MsWu3UjbrLRbPkyaaGl635pb2ywLfRHZmv8gzUozkKTntIHFEbPC7WQfKtzCEbNLeJT2zc7h4XWzLGK6gLkgjYRvk0OTbbPSIyxHTavCApZfwOzkabybz2dTYQfzlvNOzsL38W45nY2vvh8uc9ustICRMJ39GEk/oF0n2mZvgUXPH+4lAWaH82ubFZ5ESXqc7STh21Mrm4dodnRzP55MJgDzx1krRTpmlze7MTwBjG8Pf4Ou2YfFeAYiXEn37ZTtmJ0txgu4ApiNblo/QidnF7PxLXyDp/Gi07MhmmUr9xUspywd2190c1aSxiLcLztbpW6dlST4JvyAB6GzEezUWYnl7A9hIgrt7VW3zgpLuP3fD5h2Wh2kWebl6loYMRFtjX2jrrH4recoZM+oaw43Y+ahO27qjrqaajB+gk5kz9hg1xy271mEwZplmw5ol653ml2yleA0s52Z9Zh9hMV0Ou0OngdrFh4W0F3gd5llq/fjd9h1W+g1+33XXWd69xTger7slO4Bm72+gqtOb/vNAqdZacm2iouenageszfwHaA7sx6z0iNTOPlKZsd3XQf9e7edrde+hZ69W0m46+wqNfTs3UqCcNfTbl/OslZ7ujpYs9c9WYDHDU6ma1Z6ekKzf4CeY12dkeQeNHsieBTxXKDZc4FmzwWaPRdo9lyg2XPxwNvdL2RWmn62VYZ4fSfwMZ5NOSOF8e2IN1RYzsackdItd+TTAHJWnExuOHniDTwp9IRY7sirySDMXl8gAzF7dXGg2XMxDLOXWA4mQzDbqL04BvLXNZ/9J0bn4LOdIu8G7wj0p3Dqg/tvkVo/bXoaJty3adN0zjtSWXrIeVcw0QnDgT4HwAoOxBDlNLPUdSuV0xcxVL7GZT831IQrNClS3lb30PLDnnVhhRboNjETrXkgR+I0OWubJgE5pECSY/kQqha4fE84cPzY5XOghQBlxRdqgcg5/z3xKcHvQ97IULl+Wlcg5kWlZjro67hUCFVKcP1jZTcwRIgNrjlpkXVCdqVbzkDNUWXuVvUq/TizigNpTSH2NZlVApnlrF8CuDHoRVkfLWFxyuyqnPMi/GaTjLN6hnXGVzcaqE+qjzWbAax8TVcI0FrXCnWzLpjdKjv+WKOYrbRBzjkvfrN6wRtJSZRzyyoT3tL1B9ibVfdmm6duWCxvlVhjgO3n/tG7iJq5BmnJOS9us7p6yg1DU95fVleTxCj5a8f7kNe/ctaqU7lkyRLUuq07kBtalh6bnGReooac8yIZn9lILRPT47o3rBfKJnfO6tvt1qhMzuj34uQObNkmyHM10PNcNiIQPTVzSZLb7IOjKvTK4B7HECM6HsQw0zJNDS6zYeVW3il7N/yl4zx8oT2xE7uqf1QxQBAEQRAEQRAEQRAEeabvOP3hA/M0+6QHZpHmWVDv6tIHY//53mpMYPRP96Ag+Wf137d0veqEvIKZqyrvcWeGF3MdmbK8sjT5jmFpYVnyn62BMHf/+GE8IwQQ5Z5mD58+pvknnTX2Kk3k76qs8i2XbCReztcPL/MC7iPvELtb4w1m5a1juOz3E1e5wXLTKvMoMEEL8jzQwMyMitiprVcWiNsASKmW+8sEaKpDuIrc5qA0Sd1QZUsUumy57Crc/3uVILX5r6PQ8pg/Y4zj5+AaRFa8DO6D2TpdvcWsXrh6qdiw9Z1w44CRJXHB5hnIUbECz48T6qxla5OAvdY1f2tv96e86doE0690t6aQq8mW5Wy4DmV/BXFhGfmRC8pK1VdT3r7GZpLzxVLZNLgf8Eb4c7Y5i/8Ws7UMjiJrRUxItqKKCZAFzTbJyUuwFDZ79i2kBrMsRrVO9HWTblRJwKwtCBVC2MumGlS5RbYuSzHVfy0hM9dtTkSGPKcNLUIgMvbnI49ACaEQFRnHaTDWKGtOq46erNsHq25zBcPbzCqkcUd91zAqc38ZUR6Avq5W+RbIT7Msin0aZgbjl1lFaz63FVYRWDXIc9ZAyXqRvXqJRqjrTUZTnpRJfcXOV1HshscWzCz2V5bR6vg1MkGhOI1YLlc01JuTcG80azfuxHpfdqiyAo3lbLPpVv9jVvPj2t6fC3+Z479mLZbmlOVs+Xxlhl1siyObXS2I5G3Gsd5SSq20TCvjqAaN0mYYA+VxBaxRUat4r6V55m1mN8zsRgZzHXupA2kRp8xs6XtsYwW0cGO7+Zb90i4LNgrP2w+X6IbV2Y22n7oqYvY5q8OVGa9AdSHYHBndbvO8OmGEaPJdTROXq1LlO3m9zavKcPl78CaztknZSJAlkBzEiQaaF9hsvade7Nhh8+GKWib7lpiNCi2Mg/0pas1zwPE0sFlho15gNec2iRd7lsOCqXm0hp7UUTnhCrfNwOP8vfSk4ZQ+vB+ruRj2o65a+KvIfUNxB/QM4suBOvJAL4ZGEARBEARBEARBEARBEARBEAS5BP4PwoUi/bWV7WkAAAAASUVORK5CYII=)\r\n"
      ]
    },
    {
      "cell_type": "code",
      "metadata": {
        "colab": {
          "base_uri": "https://localhost:8080/"
        },
        "id": "w79WGoKAZcCC",
        "outputId": "5bb628ea-f396-4199-883f-c824a554af07"
      },
      "source": [
        "text=\"12345                6\"\r\n",
        "print(text[:5]) #Vypíše vše od začátku po 4 (5uzavírá)"
      ],
      "execution_count": null,
      "outputs": [
        {
          "output_type": "stream",
          "text": [
            "12345\n"
          ],
          "name": "stdout"
        }
      ]
    },
    {
      "cell_type": "code",
      "metadata": {
        "colab": {
          "base_uri": "https://localhost:8080/"
        },
        "id": "fevaClUSa-A-",
        "outputId": "ab844677-1a90-4849-ac6a-7d407abaf729"
      },
      "source": [
        "veta = \"Dneska máme druhou lekci.Snad je vše ok.Snad jo!\"\r\n",
        "veta.split(\".\")\r\n",
        "text_filtr = veta[:7] + veta [12:18]\r\n",
        "print(text_filtr)\r\n"
      ],
      "execution_count": null,
      "outputs": [
        {
          "output_type": "stream",
          "text": [
            "Dneska druhou\n"
          ],
          "name": "stdout"
        }
      ]
    },
    {
      "cell_type": "markdown",
      "metadata": {
        "id": "6Iuqh0yYcS6K"
      },
      "source": [
        "**LIST proměnná**"
      ]
    },
    {
      "cell_type": "code",
      "metadata": {
        "colab": {
          "base_uri": "https://localhost:8080/"
        },
        "id": "5LOdUhBScQuJ",
        "outputId": "3636df0d-d60d-4d3b-f537-0f549607a238"
      },
      "source": [
        "tohle_je_list = [\"Petr\", \"Novotný\", 32] #Umozni ukladat vice informaci, indexovat\r\n",
        "print(type(tohle_je_list))\r\n",
        "print(dir(tohle_je_list))\r\n",
        "print(tohle_je_list)\r\n",
        "tohle_je_list[1] = \"Jiný\" #Máme 3 proměnné takže indexy jsou 0,1 a 2\r\n",
        "print(tohle_je_list)"
      ],
      "execution_count": null,
      "outputs": [
        {
          "output_type": "stream",
          "text": [
            "<class 'list'>\n",
            "['__add__', '__class__', '__contains__', '__delattr__', '__delitem__', '__dir__', '__doc__', '__eq__', '__format__', '__ge__', '__getattribute__', '__getitem__', '__gt__', '__hash__', '__iadd__', '__imul__', '__init__', '__init_subclass__', '__iter__', '__le__', '__len__', '__lt__', '__mul__', '__ne__', '__new__', '__reduce__', '__reduce_ex__', '__repr__', '__reversed__', '__rmul__', '__setattr__', '__setitem__', '__sizeof__', '__str__', '__subclasshook__', 'append', 'clear', 'copy', 'count', 'extend', 'index', 'insert', 'pop', 'remove', 'reverse', 'sort']\n",
            "['Petr', 'Novotný', 32]\n",
            "['Petr', 'Jiný', 32]\n"
          ],
          "name": "stdout"
        }
      ]
    },
    {
      "cell_type": "code",
      "metadata": {
        "colab": {
          "base_uri": "https://localhost:8080/"
        },
        "id": "I2ZhH3rQdf2g",
        "outputId": "03a5ec84-5252-46e1-c1d0-ac83bf6b5390"
      },
      "source": [
        "print(10*\"neco \")\r\n",
        "print([\"Polozka listu\"]*3)"
      ],
      "execution_count": null,
      "outputs": [
        {
          "output_type": "stream",
          "text": [
            "neco neco neco neco neco neco neco neco neco neco \n",
            "['Polozka listu', 'Polozka listu', 'Polozka listu']\n"
          ],
          "name": "stdout"
        }
      ]
    },
    {
      "cell_type": "code",
      "metadata": {
        "colab": {
          "base_uri": "https://localhost:8080/"
        },
        "id": "t3U5tuz1e1GW",
        "outputId": "fdf9eeec-6bc8-4136-dde4-1265fb55b6b9"
      },
      "source": [
        "text = \"Josef\"\r\n",
        "text = text.upper()\r\n",
        "print(text)\r\n",
        "print(text)\r\n",
        "print(text)\r\n",
        "print(text)"
      ],
      "execution_count": null,
      "outputs": [
        {
          "output_type": "stream",
          "text": [
            "JOSEF\n",
            "JOSEF\n",
            "JOSEF\n",
            "JOSEF\n"
          ],
          "name": "stdout"
        }
      ]
    },
    {
      "cell_type": "code",
      "metadata": {
        "colab": {
          "base_uri": "https://localhost:8080/"
        },
        "id": "mrdLOpt9grUz",
        "outputId": "8e7c33c7-daa4-4adf-a352-1053e200c03f"
      },
      "source": [
        "tabulka = [[\"Jmeno\", \"Prijmeni\", \"Vek\"],[\"Petr\",\"Novotny\", 45], [\"Hanka\",\"Bila\", 33], [\"Sabima\",\"Suchanova\", 11]]\r\n",
        "print(tabulka[1][2])"
      ],
      "execution_count": null,
      "outputs": [
        {
          "output_type": "stream",
          "text": [
            "45\n"
          ],
          "name": "stdout"
        }
      ]
    },
    {
      "cell_type": "code",
      "metadata": {
        "colab": {
          "base_uri": "https://localhost:8080/"
        },
        "id": "IkMm3iSJht60",
        "outputId": "7b0e4191-b5ad-4513-a917-593e9edb1558"
      },
      "source": [
        "tabulka = [[\"Jmeno\", \"Prijmeni\", \"Vek\"],[\"Petr\",\"Novotny\", 45], [\"Hanka\",\"Bila\", 33], [\"Sabima\",\"Suchanova\", 11]]\r\n",
        "index = int(input(\"Zadej index cloveka(zacni od 1): \"))\r\n",
        "print(f\"Krestni jmeno: {tabulka[index][0]}\\nPrijmeni: {tabulka[index][1]}\\nVek: {tabulka[index][2]}\")   # \\n kdekoliv v stringu zalomí na další řádek ;)\r\n"
      ],
      "execution_count": null,
      "outputs": [
        {
          "output_type": "stream",
          "text": [
            "Zadej index cloveka(zacni od 1): 1\n",
            "Krestni jmeno: Petr\n",
            "Prijmeni: Novotny\n",
            "Vek: 45\n"
          ],
          "name": "stdout"
        }
      ]
    },
    {
      "cell_type": "markdown",
      "metadata": {
        "id": "J_gPyqUnBrG2"
      },
      "source": [
        "# Lekce 3"
      ]
    },
    {
      "cell_type": "markdown",
      "metadata": {
        "id": "g2s4xSQACyBs"
      },
      "source": [
        "Tuple"
      ]
    },
    {
      "cell_type": "code",
      "metadata": {
        "colab": {
          "base_uri": "https://localhost:8080/"
        },
        "id": "85nwa0OxBxVx",
        "outputId": "9f9e4d66-6d2e-4273-e314-bdf67aa7cba8"
      },
      "source": [
        "tohle_je_tuple = (\"Jmeno\",\"Prijmeni\",89,[\"list\"]) # Dává se do () stejné vlastnosti jako list, ale je neměnný, žere méně paměti\r\n",
        "print(len(tohle_je_tuple))\r\n",
        "type(tohle_je_tuple)\r\n",
        "dir(tohle_je_tuple)\r\n",
        "list_na_tuple = tuple([\"Tohle je list\",\"Tohle je druhy prvek\"]) # Prevod udelam pomoci funkce tuple() nebo obdobne list()\r\n"
      ],
      "execution_count": null,
      "outputs": [
        {
          "output_type": "stream",
          "text": [
            "4\n"
          ],
          "name": "stdout"
        }
      ]
    },
    {
      "cell_type": "markdown",
      "metadata": {
        "id": "8W_MLpCFGOxl"
      },
      "source": [
        "Podmínky"
      ]
    },
    {
      "cell_type": "code",
      "metadata": {
        "colab": {
          "base_uri": "https://localhost:8080/"
        },
        "id": "pcsyVdz1GQ-m",
        "outputId": "61c3c8ed-4f3b-424f-b805-698fefb4fc91"
      },
      "source": [
        "slovo = input(\"Zadej slovo: \")\r\n",
        "list_slov=[]\r\n",
        "if len(slovo) == 5:\r\n",
        "  print()\r\n",
        "elif len(slovo) > 10:\r\n",
        "  list_slov.append(slovo) # Přidá slovo do listu\r\n",
        "else:\r\n",
        "  print(\"Slovo má méně písmen než 11\")\r\n"
      ],
      "execution_count": null,
      "outputs": [
        {
          "output_type": "stream",
          "text": [
            "Zadej slovo: 12345\n",
            "\n"
          ],
          "name": "stdout"
        }
      ]
    },
    {
      "cell_type": "code",
      "metadata": {
        "colab": {
          "base_uri": "https://localhost:8080/"
        },
        "id": "3JT3P4-rJRyw",
        "outputId": "7fab0e20-4cef-487e-84a2-fdbe811a0e71"
      },
      "source": [
        "slovo = \"Kuba\"\r\n",
        "if slovo == \"Kuba\" and len(slovo) == 4: # Kontroluje délku a case sensitive\r\n",
        "  print(\"V pořádku\")\r\n",
        "else:\r\n",
        "  print(\"Chyba\")"
      ],
      "execution_count": null,
      "outputs": [
        {
          "output_type": "stream",
          "text": [
            "V pořádku\n"
          ],
          "name": "stdout"
        }
      ]
    },
    {
      "cell_type": "code",
      "metadata": {
        "colab": {
          "base_uri": "https://localhost:8080/"
        },
        "id": "eWax8gxiLS3M",
        "outputId": "7cc42cbe-10bb-4f06-e60a-cae44841dee8"
      },
      "source": [
        "dny = (\"Pondeli\",\"Utery\",\"Streda\",\"Ctvrtek\",\"Patek\",\"Sobota\",\"Nedele\")\r\n",
        "ktery_den_jedu = dny.index(input(\"Zadej den odjezdu: \"))\r\n",
        "na_jak_dlouho_jedu = int(input(\"Na kolik dní jedeš? \"))\r\n",
        "kdy_se_vracim = (ktery_den_jedu + na_jak_dlouho_jedu)%len(dny)\r\n",
        "print(f\" Den kdy se vracis je: {dny[kdy_se_vracim]}\")\r\n"
      ],
      "execution_count": null,
      "outputs": [
        {
          "output_type": "stream",
          "text": [
            "Zadej den odjezdu: Patek\n",
            "Na kolik dní jedeš? 2\n",
            " Den kdy se vracis je: Nedele\n"
          ],
          "name": "stdout"
        }
      ]
    },
    {
      "cell_type": "code",
      "metadata": {
        "id": "xmJItKqeMynd"
      },
      "source": [
        "7%7\r\n"
      ],
      "execution_count": null,
      "outputs": []
    },
    {
      "cell_type": "markdown",
      "metadata": {
        "id": "eicYqPx3T5VT"
      },
      "source": [
        "# Lekce 4\r\n"
      ]
    },
    {
      "cell_type": "markdown",
      "metadata": {
        "id": "bU7T032cUyzq"
      },
      "source": [
        "Dictionary\r\n"
      ]
    },
    {
      "cell_type": "code",
      "metadata": {
        "id": "D_scqs0-UyRQ"
      },
      "source": [
        "muj_dict = dict() # Da se vytvořit i napsáním {}\r\n",
        "print(type(muj_dict))\r\n",
        "print(dir(muj_dict))"
      ],
      "execution_count": null,
      "outputs": []
    },
    {
      "cell_type": "code",
      "metadata": {
        "id": "93hhMJJXVZn8"
      },
      "source": [
        "muj_dict[\"klic\"] = \"informace\"\r\n",
        "muj_dict[\"klic2\"] = \"informace2\"\r\n",
        "muj_dict[\"klic2\"]"
      ],
      "execution_count": null,
      "outputs": []
    },
    {
      "cell_type": "code",
      "metadata": {
        "colab": {
          "base_uri": "https://localhost:8080/"
        },
        "id": "0LZbm3OlWa9R",
        "outputId": "e06b7612-d616-47ae-8990-03190f5a3d07"
      },
      "source": [
        "slovnik = dict()\r\n",
        "slovnik[\"jmeno\"] = \"petr\"\r\n",
        "slovnik[\"prijmeni\"] = \"novotny\"\r\n",
        "print(slovnik[\"jmeno\"],slovnik[\"prijmeni\"])\r\n",
        "# slovni"
      ],
      "execution_count": null,
      "outputs": [
        {
          "output_type": "stream",
          "text": [
            "petr novotny\n"
          ],
          "name": "stdout"
        }
      ]
    },
    {
      "cell_type": "code",
      "metadata": {
        "id": "8ai6UigjYp1K"
      },
      "source": [
        "my_dict.get(\"klic\",\"eror\") # pokud nenajde klic vrati eror"
      ],
      "execution_count": null,
      "outputs": []
    },
    {
      "cell_type": "code",
      "metadata": {
        "id": "D-Hrt9ntY-zz"
      },
      "source": [
        "my_dict = {\"prva\" : \"dvojica\" , \"druha\": \"dvojica\" } # slovník se dá definovat taky takhle vždycky dvojce klíč a hodnota"
      ],
      "execution_count": null,
      "outputs": []
    },
    {
      "cell_type": "code",
      "metadata": {
        "id": "1q57oovmZI7-"
      },
      "source": [
        "list(my_dict.values()) # vypíše všechny hodnoty\r\n",
        "list(my_dict.items()) # vypíše všechny dvojce\r\n",
        "list(my_dict.keys()) # vypíše všechny dvojce"
      ],
      "execution_count": null,
      "outputs": []
    },
    {
      "cell_type": "code",
      "metadata": {
        "id": "KuXfXNASZ0Qk"
      },
      "source": [
        "my_dict = {}\r\n",
        "my_dict[\"film1\"] = {\"jmeno\": \"Vykoupení z věznice Shawshank\", \r\n",
        "                    \"Nejlepší film\": 1,\r\n",
        "                    \"Hrají\":[\"Morgen Freeman\", \"Tim Robbins\"]}\r\n",
        "\r\n",
        "my_dict[\"film2\"] = {\"jmeno\": \"Forest Gump\", \r\n",
        "                    \"Nejlepší film\": 2,\r\n",
        "                    \"Hrají\":[\"Tom Hanks\", \"Robin Wright\"]}\r\n",
        "                    \r\n",
        "my_dict[\"film3\"] = {\"jmeno\": \"Zelená míle\", \r\n",
        "                    \"Nejlepší film\": 3,\r\n",
        "                    \"Hrají\":[\"Tom Hanks\", \"David Morse\"]}\r\n",
        "\r\n",
        "my_dict[\"film4\"] = {\"jmeno\": \"Přelet nad kukaččím hnízdem\", \r\n",
        "                    \"Nejlepší film\": 4,\r\n",
        "                    \"Hrají\":[\"Jack Nicholson\", \"Louise Fletcher\"]}\r\n",
        "\r\n",
        "my_dict[\"film5\"] = {\"jmeno\": \"Sedm\", \r\n",
        "                    \"Nejlepší film\": 5,\r\n",
        "                    \"Hrají\":[\"Brad Pitt\", \"Morgen Freeman\"]}\r\n",
        "\r\n",
        "print(my_dict[\"film2\"][\"Hrají\"][0])\r\n",
        "\r\n",
        "\r\n"
      ],
      "execution_count": null,
      "outputs": []
    },
    {
      "cell_type": "markdown",
      "metadata": {
        "id": "1UYddRYuc1FY"
      },
      "source": [
        "Cyklus FOR"
      ]
    },
    {
      "cell_type": "code",
      "metadata": {
        "id": "6vh7vWb7c4--"
      },
      "source": [
        "jmena = [\"Petr\",\"Milan\",\"Michal\",\"Jakub\"]\r\n",
        "for jmeno in jmena:\r\n",
        "  print (jmeno)"
      ],
      "execution_count": null,
      "outputs": []
    },
    {
      "cell_type": "code",
      "metadata": {
        "id": "OsIU7fV1dpsV"
      },
      "source": [
        "jmena = [\"Petr\",\"Milan\",\"Michal\",\"Jakub\"]\r\n",
        "for jmeno in jmena:\r\n",
        "  if jmeno.startswith(\"M\"):\r\n",
        "    print(jmeno)\r\n",
        "  else:\r\n",
        "    print(\"Nezačíná na M\")"
      ],
      "execution_count": null,
      "outputs": []
    },
    {
      "cell_type": "code",
      "metadata": {
        "id": "U9aQUjKWeZFC",
        "colab": {
          "base_uri": "https://localhost:8080/"
        },
        "outputId": "d5aa5f07-76f5-4a05-f48c-994a11e17b4e"
      },
      "source": [
        "jmena = [\"Petr\",\"Milan\",\"Michal\",\"Jakub\"]\r\n",
        "for jmeno in jmena:\r\n",
        "  if jmeno.startswith(\"Milan\"):\r\n",
        "    continue\r\n",
        "  else:\r\n",
        "    print(jmeno)"
      ],
      "execution_count": null,
      "outputs": [
        {
          "output_type": "stream",
          "text": [
            "Petr\n",
            "Michal\n",
            "Jakub\n"
          ],
          "name": "stdout"
        }
      ]
    },
    {
      "cell_type": "markdown",
      "metadata": {
        "id": "6AnCr7UFev2I"
      },
      "source": [
        "Range()"
      ]
    },
    {
      "cell_type": "code",
      "metadata": {
        "id": "lDwnIo0UeyWN"
      },
      "source": [
        "range(10) # Range neumí floaty (potřebuju knihovnu navíc)\r\n",
        "list(range(0,60,2)) # Generuje každé druhé číslo od 0 do 60"
      ],
      "execution_count": null,
      "outputs": []
    },
    {
      "cell_type": "code",
      "metadata": {
        "id": "jFutMDz3fXps"
      },
      "source": [
        "my_dict = {}\r\n",
        "for i in range(10):\r\n",
        "  print(i+1)"
      ],
      "execution_count": null,
      "outputs": []
    },
    {
      "cell_type": "code",
      "metadata": {
        "id": "_2lxJNUOfvAI",
        "colab": {
          "base_uri": "https://localhost:8080/"
        },
        "outputId": "3d4f198f-427c-4629-d832-285303124e18"
      },
      "source": [
        "my_dict = {}\r\n",
        "for i in range(1,10):\r\n",
        "  my_dict[f\"film{i}\"] = {\"jmeno\": input(\"Zadej jmeno filmu: \"), \r\n",
        "                         \"Nejlepší film\": input(\"Kolikaty je to film na CSFD? \"), \r\n",
        "                         \"Hraji\":input(\"Kdo hraje? Zadej herce a rozdel to carkou\").split(\",\")}\r\n",
        "  chces_zadat = input(\"Chces, zadat dalsi film? Pokud ne, tak zmackni(q)\") \r\n",
        "  if chces_zadat == \"q\":\r\n",
        "    print(my_dict)\r\n",
        "    break\r\n",
        "  else:\r\n",
        "    print(f\"Pokracuji a zadavam: {len(my_dict)} film z 10\")\r\n",
        "\r\n"
      ],
      "execution_count": null,
      "outputs": [
        {
          "output_type": "stream",
          "text": [
            "Zadej jmeno filmu: Shawshank\n",
            "Kolikaty je to film na CSFD? 1\n",
            "Kdo hraje? Zadej herce a rozdel to carkouasd,asd,asdas\n",
            "Chces, zadat dalsi film? Pokud ne, tak zmackni(q)j\n",
            "Pokracuji a zadavam: 1 film z 10\n",
            "Zadej jmeno filmu: Rambo\n",
            "Kolikaty je to film na CSFD? 2\n",
            "Kdo hraje? Zadej herce a rozdel to carkouasd,asdsa,asdsad\n",
            "Chces, zadat dalsi film? Pokud ne, tak zmackni(q)q\n",
            "{'film1': {'jmeno': 'Shawshank', 'Nejlepší film': '1', 'Hraji': ['asd', 'asd', 'asdas']}, 'film2': {'jmeno': 'Rambo', 'Nejlepší film': '2', 'Hraji': ['asd', 'asdsa', 'asdsad']}}\n"
          ],
          "name": "stdout"
        }
      ]
    },
    {
      "cell_type": "markdown",
      "metadata": {
        "id": "b1roQWcVFd0b"
      },
      "source": [
        "# Lekce 5"
      ]
    },
    {
      "cell_type": "markdown",
      "metadata": {
        "id": "hNuNutbMHjHO"
      },
      "source": [
        "While ()"
      ]
    },
    {
      "cell_type": "code",
      "metadata": {
        "id": "bAGKXe9pFtA0"
      },
      "source": [
        "# Tzv nekonecna smycka - pouziva se treba k hledani\r\n",
        "cislo = 1\r\n",
        "while cislo  > 0:\r\n",
        "  cislo = cislo + 1\r\n",
        "  print(cislo)\r\n",
        "  if cislo == 10: # Přerušení smyčky\r\n",
        "    break"
      ],
      "execution_count": null,
      "outputs": []
    },
    {
      "cell_type": "code",
      "metadata": {
        "id": "-YobGcGNH3yy",
        "colab": {
          "base_uri": "https://localhost:8080/",
          "height": 391
        },
        "outputId": "77b69ac4-e79d-4b5c-938f-ca8f3e3858e7"
      },
      "source": [
        "my_dict = {}\r\n",
        "while True: # Pomoci tohoto radku muzu udelat nekonecnou smycku\r\n",
        "  my_dict[f\"film{i}\"] = {\"jmeno\": input(\"Zadej jmeno filmu: \"), \r\n",
        "                         \"Nejlepší film\": input(\"Kolikaty je to film na CSFD? \"), \r\n",
        "                         \"Hraji\":input(\"Kdo hraje? Zadej herce a rozdel to carkou\").split(\",\")}\r\n",
        "  chces_zadat = input(\"Chces, zadat dalsi film? Pokud ne, tak zmackni(q)\") \r\n",
        "  if chces_zadat == \"q\":\r\n",
        "    break\r\n",
        "  else:\r\n",
        "    print(f\"Pokracuji a zadavam: {len(my_dict)} film z 10\")"
      ],
      "execution_count": null,
      "outputs": [
        {
          "output_type": "stream",
          "text": [
            "Zadej jmeno filmu: Shawshank\n",
            "Kolikaty je to film na CSFD? 1\n",
            "Kdo hraje? Zadej herce a rozdel to carkouLen,Ten\n"
          ],
          "name": "stdout"
        },
        {
          "output_type": "error",
          "ename": "NameError",
          "evalue": "ignored",
          "traceback": [
            "\u001b[0;31m---------------------------------------------------------------------------\u001b[0m",
            "\u001b[0;31mNameError\u001b[0m                                 Traceback (most recent call last)",
            "\u001b[0;32m<ipython-input-2-235cf656d7f9>\u001b[0m in \u001b[0;36m<module>\u001b[0;34m()\u001b[0m\n\u001b[1;32m      3\u001b[0m   my_dict[f\"film{i}\"] = {\"jmeno\": input(\"Zadej jmeno filmu: \"), \n\u001b[1;32m      4\u001b[0m                          \u001b[0;34m\"Nejlepší film\"\u001b[0m\u001b[0;34m:\u001b[0m \u001b[0minput\u001b[0m\u001b[0;34m(\u001b[0m\u001b[0;34m\"Kolikaty je to film na CSFD? \"\u001b[0m\u001b[0;34m)\u001b[0m\u001b[0;34m,\u001b[0m\u001b[0;34m\u001b[0m\u001b[0;34m\u001b[0m\u001b[0m\n\u001b[0;32m----> 5\u001b[0;31m                          \"Hraji\":input(\"Kdo hraje? Zadej herce a rozdel to carkou\").split(\",\")}\n\u001b[0m\u001b[1;32m      6\u001b[0m   \u001b[0mchces_zadat\u001b[0m \u001b[0;34m=\u001b[0m \u001b[0minput\u001b[0m\u001b[0;34m(\u001b[0m\u001b[0;34m\"Chces, zadat dalsi film? Pokud ne, tak zmackni(q)\"\u001b[0m\u001b[0;34m)\u001b[0m\u001b[0;34m\u001b[0m\u001b[0;34m\u001b[0m\u001b[0m\n\u001b[1;32m      7\u001b[0m   \u001b[0;32mif\u001b[0m \u001b[0mchces_zadat\u001b[0m \u001b[0;34m==\u001b[0m \u001b[0;34m\"q\"\u001b[0m\u001b[0;34m:\u001b[0m\u001b[0;34m\u001b[0m\u001b[0;34m\u001b[0m\u001b[0m\n",
            "\u001b[0;31mNameError\u001b[0m: name 'i' is not defined"
          ]
        }
      ]
    },
    {
      "cell_type": "code",
      "metadata": {
        "colab": {
          "base_uri": "https://localhost:8080/"
        },
        "id": "0tbv9fmCJToa",
        "outputId": "06c8cb57-0bc2-44f2-e22a-72667dfafc56"
      },
      "source": [
        "my_dict = {}\r\n",
        "cislo = 2\r\n",
        "while cislo >5: # Podminka neni splnena a tak se prejde k \"druhe vetvi\" else\r\n",
        "  my_dict[f\"film{i}\"] = {\"jmeno\": input(\"Zadej jmeno filmu: \"), \r\n",
        "                         \"Nejlepší film\": input(\"Kolikaty je to film na CSFD? \"), \r\n",
        "                         \"Hraji\":input(\"Kdo hraje? Zadej herce a rozdel to carkou\").split(\",\")}\r\n",
        "  chces_zadat = input(\"Chces, zadat dalsi film? Pokud ne, tak zmackni(q)\") \r\n",
        "  if chces_zadat == \"q\":\r\n",
        "    break\r\n",
        "  else:\r\n",
        "    print(f\"Pokracuji a zadavam: {len(my_dict)} film z 10\")\r\n",
        "else:\r\n",
        "  print(\"Bohuzel se nepovedlo\")"
      ],
      "execution_count": null,
      "outputs": [
        {
          "output_type": "stream",
          "text": [
            "Bohuzel se nepovedlo\n"
          ],
          "name": "stdout"
        }
      ]
    },
    {
      "cell_type": "code",
      "metadata": {
        "id": "Lluh3do1J0oY"
      },
      "source": [
        "list_dat = [[\"jmeno\",\"Prijmeni\",\"vek\"]]\r\n",
        "while True:\r\n",
        "  volba = input(\"Pro ukonceni zadej klavesu(q): \").lower()# Osetri kdyby nekdo mel zapnuty caps lock\r\n",
        "  if volba == \"q\":\r\n",
        "    break\r\n",
        "  else:\r\n",
        "    zadat_data = input(\"Zadej Jmeno, Prijmeni, Vek a vse oddel carkou\").split(\",\")\r\n",
        "    list_dat.append(zadat_data) # zjisti si rozdil mezi extend a append (DU)"
      ],
      "execution_count": null,
      "outputs": []
    },
    {
      "cell_type": "markdown",
      "metadata": {
        "id": "tS2F551PMzsp"
      },
      "source": [
        "Open a with open"
      ]
    },
    {
      "cell_type": "code",
      "metadata": {
        "id": "ZsuJhRO1M3Fe"
      },
      "source": [
        "file = open(\"Newfile.txt\", mode=\"w\")\r\n",
        "file.write(\"Tohle zapisu do souboru\")\r\n",
        "file.close()"
      ],
      "execution_count": null,
      "outputs": []
    },
    {
      "cell_type": "code",
      "metadata": {
        "id": "e9OxOyaAOiR8",
        "colab": {
          "base_uri": "https://localhost:8080/"
        },
        "outputId": "f452fb5a-3e3b-4dbd-b44a-bcb864a432bb"
      },
      "source": [
        "with open(\"Tabulka_datII.txt\", mode=\"w\") as file:\r\n",
        "  jmeno, prijmeni, vek = [\"Jmeno\", \"Prijmeni\",\"vek\"] ##\r\n",
        "  text = f\"{jmeno},{prijmeni},{vek}\" + \"\\n\"\r\n",
        "  file.writelines(text)\r\n",
        "  print(\"Vytvoril jsem soubor: Tabulka_dat.txt\")"
      ],
      "execution_count": null,
      "outputs": [
        {
          "output_type": "stream",
          "text": [
            "Vytvoril jsem soubor: Tabulka_dat.txt\n"
          ],
          "name": "stdout"
        }
      ]
    },
    {
      "cell_type": "markdown",
      "metadata": {
        "id": "QLQAFnOLIHx-"
      },
      "source": [
        "# Úkoly"
      ]
    },
    {
      "cell_type": "markdown",
      "metadata": {
        "id": "QsJUnWKWIhSG"
      },
      "source": [
        "Úloha 1"
      ]
    },
    {
      "cell_type": "code",
      "metadata": {
        "colab": {
          "base_uri": "https://localhost:8080/"
        },
        "id": "LnnULUGbIN7i",
        "outputId": "e7e3a14a-6b6f-4135-ca58-c0004ae0b7ca"
      },
      "source": [
        "# soucet vsech cisel\r\n",
        "list_cisel = [4, 6, 8, 14, 900]\r\n",
        "counter = 0\r\n",
        "for x in list_cisel:\r\n",
        "  counter += x\r\n",
        "print(\"Suma cisel:\",counter) \r\n"
      ],
      "execution_count": null,
      "outputs": [
        {
          "output_type": "stream",
          "text": [
            "Suma cisel: 932\n"
          ],
          "name": "stdout"
        }
      ]
    },
    {
      "cell_type": "markdown",
      "metadata": {
        "id": "e6vpc5RmIjEr"
      },
      "source": [
        "Úloha 2"
      ]
    },
    {
      "cell_type": "code",
      "metadata": {
        "colab": {
          "base_uri": "https://localhost:8080/"
        },
        "id": "nNbSdU2BIUCu",
        "outputId": "b6a432c7-c018-432f-f54f-c31c5186fd19"
      },
      "source": [
        "#Secti vsechna cisla v listu(i ta v textu a nezapomen, ze i True je cislo)\r\n",
        "list_znaku_a_cisel = [4, 6, 8, 14, 900, \"5\", \"ahoj\", 34, True, \"ddjj5\"]\r\n",
        "counter = 0   \r\n",
        "for element in list_znaku_a_cisel:\r\n",
        "  if type(element) == int:      # Integer je rovnou přičten\r\n",
        "    counter += element\r\n",
        "  elif type(element) == bool:   # Bool je převeden na int a přičten\r\n",
        "    counter += int(element)\r\n",
        "  elif type(element) == str:    # String projde smyčka a pokud charakter je číslo, tak je převedeno na integer a přučteno\r\n",
        "    for string_char in element:\r\n",
        "      if string_char.isdigit() == True:\r\n",
        "        counter +=int(string_char)\r\n",
        "print(\"Suma cisel:\",counter) \r\n",
        "\r\n"
      ],
      "execution_count": null,
      "outputs": [
        {
          "output_type": "stream",
          "text": [
            "Suma cisel: 977\n"
          ],
          "name": "stdout"
        }
      ]
    },
    {
      "cell_type": "markdown",
      "metadata": {
        "id": "mTLgndBZInMl"
      },
      "source": [
        "Úloha 3"
      ]
    },
    {
      "cell_type": "code",
      "metadata": {
        "id": "OziYJ887IUYM",
        "colab": {
          "base_uri": "https://localhost:8080/"
        },
        "outputId": "f5761f0b-b309-45d4-d8e1-610b02393402"
      },
      "source": [
        "#Secti vsechna cisla v listu(i ta v textu a nezapomen, ze i True je cislo)\r\n",
        "list_znaku_a_cisel = [4, 6, 8, 14, 900, \"5\", \"ahoj\", 34, True, \"ddjj5\", [\"5\", 7, True, \"ddh5\"]]\r\n",
        "\r\n",
        "counter=0\r\n",
        "for element in list_znaku_a_cisel:\r\n",
        "  if type(element) == int:            # Integer je rovnou přičten\r\n",
        "    counter += element\r\n",
        "  if type(element) == bool:           # Bool je převeden na int a přičten\r\n",
        "    counter += int(element)\r\n",
        "  if type(element) == str:            # String projde smyčka a pokud charakter je číslo, tak je převedeno na integer a přučteno\r\n",
        "    for string_char in element:\r\n",
        "      if string_char.isdigit() == True:\r\n",
        "        counter += int(string_char)\r\n",
        "  \r\n",
        "  if type(element) == list:              # Pokud je prvkem (elementem) list - znovu seo pakují předchozí smyčky\r\n",
        "    for list_element in element:\r\n",
        "      if type(list_element) == int:\r\n",
        "        counter += list_element\r\n",
        "      if type(list_element) == bool:\r\n",
        "        counter += int(list_element)\r\n",
        "      if type(list_element) == str:\r\n",
        "        for list_element_char in list_element:\r\n",
        "          if list_element_char.isdigit() == True:\r\n",
        "            counter += int(list_element_char)\r\n",
        "print(\"Suma cisel:\",counter) "
      ],
      "execution_count": null,
      "outputs": [
        {
          "output_type": "stream",
          "text": [
            "----------------\n",
            "Suma cisel: 995\n"
          ],
          "name": "stdout"
        }
      ]
    },
    {
      "cell_type": "markdown",
      "metadata": {
        "id": "nF_LDIPDZOS2"
      },
      "source": [
        "# Lekce 6"
      ]
    },
    {
      "cell_type": "markdown",
      "metadata": {
        "id": "rPjXGhmkZV0w"
      },
      "source": [
        "Enumerate (přiřazuje index)"
      ]
    },
    {
      "cell_type": "code",
      "metadata": {
        "colab": {
          "base_uri": "https://localhost:8080/"
        },
        "id": "VMvPHAp8ZVBV",
        "outputId": "6119e12a-7ee6-42be-b8cf-dd4f895d93ae"
      },
      "source": [
        "\r\n",
        "for i, znak in enumerate(\"ahoj\"):\r\n",
        "  print(i,znak)"
      ],
      "execution_count": null,
      "outputs": [
        {
          "output_type": "stream",
          "text": [
            "0 a\n",
            "1 h\n",
            "2 o\n",
            "3 j\n"
          ],
          "name": "stdout"
        }
      ]
    },
    {
      "cell_type": "code",
      "metadata": {
        "colab": {
          "base_uri": "https://localhost:8080/"
        },
        "id": "YEVMDanWaQxa",
        "outputId": "78ec8597-82f3-407f-db53-2a6195bdce73"
      },
      "source": [
        "list(enumerate([1,4,6,7]))"
      ],
      "execution_count": null,
      "outputs": [
        {
          "output_type": "execute_result",
          "data": {
            "text/plain": [
              "[(0, 1), (1, 4), (2, 6), (3, 7)]"
            ]
          },
          "metadata": {
            "tags": []
          },
          "execution_count": 43
        }
      ]
    },
    {
      "cell_type": "code",
      "metadata": {
        "id": "v1OHR8-daiEP"
      },
      "source": [
        "dict(enumerate[1,4,6,7])) # Lze použít i jako slovník!"
      ],
      "execution_count": null,
      "outputs": []
    },
    {
      "cell_type": "code",
      "metadata": {
        "id": "a_v0eHKdbRZP",
        "colab": {
          "base_uri": "https://localhost:8080/"
        },
        "outputId": "89799bbd-e9bf-4a9d-ace4-68cd4f0b1b51"
      },
      "source": [
        "# Varianta 1\r\n",
        "list_jmen = [\"Petr\"] * 4 + [\"karel\"] * 8 + [\"Jarmil\"] * 10 + [\"Vasek\"]\r\n",
        "for jmeno in set(list_jmen):\r\n",
        "  print(jmeno, list_jmen.count(jmeno))"
      ],
      "execution_count": null,
      "outputs": [
        {
          "output_type": "stream",
          "text": [
            "Jarmil 10\n",
            "Petr 4\n",
            "karel 8\n",
            "Vasek 1\n"
          ],
          "name": "stdout"
        }
      ]
    },
    {
      "cell_type": "code",
      "metadata": {
        "colab": {
          "base_uri": "https://localhost:8080/"
        },
        "id": "W7efOWmuebXI",
        "outputId": "8b99ec80-ee27-42ef-bace-8c0dffaf2b12"
      },
      "source": [
        "# Varianta 2\r\n",
        "slovnik_poctu = {}\r\n",
        "while list_jmen:\r\n",
        "  jmeno = list_jmen.pop()\r\n",
        "  if jmeno in slovnik_poctu:\r\n",
        "    slovnik_poctu[jmeno] = slovnik_poctu[jmeno] + 1\r\n",
        "  else:\r\n",
        "    slovnik_poctu[jmeno] = 1\r\n",
        "slovnik_poctu  "
      ],
      "execution_count": null,
      "outputs": [
        {
          "output_type": "execute_result",
          "data": {
            "text/plain": [
              "{'Jarmil': 10, 'Petr': 4, 'Vasek': 1, 'karel': 8}"
            ]
          },
          "metadata": {
            "tags": []
          },
          "execution_count": 53
        }
      ]
    },
    {
      "cell_type": "code",
      "metadata": {
        "colab": {
          "base_uri": "https://localhost:8080/"
        },
        "id": "-RoR29rHd9RW",
        "outputId": "294157ed-c1d8-49e8-f94d-f973199f963d"
      },
      "source": [
        "# Varianta 3\r\n",
        "x = 0\r\n",
        "slovnik = {}\r\n",
        "while x < len(list_jmen):\r\n",
        "  klic = list_jmen[x]\r\n",
        "  slovnik[klic] = slovnik.get(klic, 0) + 1\r\n",
        "  x += 1\r\n",
        "slovnik"
      ],
      "execution_count": null,
      "outputs": [
        {
          "output_type": "execute_result",
          "data": {
            "text/plain": [
              "{}"
            ]
          },
          "metadata": {
            "tags": []
          },
          "execution_count": 55
        }
      ]
    },
    {
      "cell_type": "code",
      "metadata": {
        "colab": {
          "base_uri": "https://localhost:8080/"
        },
        "id": "Q_6pKrkQe3CG",
        "outputId": "25df541c-8740-4370-b271-95f4f5ab0a4d"
      },
      "source": [
        "# Varianta 4\r\n",
        "list_tuplu = []\r\n",
        "for name in set(list_jmen):\r\n",
        "  list_tuplu.append((name, list_jmen.count(name)))\r\n",
        "dict(list_tuplu)"
      ],
      "execution_count": null,
      "outputs": [
        {
          "output_type": "execute_result",
          "data": {
            "text/plain": [
              "{}"
            ]
          },
          "metadata": {
            "tags": []
          },
          "execution_count": 54
        }
      ]
    },
    {
      "cell_type": "code",
      "metadata": {
        "colab": {
          "base_uri": "https://localhost:8080/"
        },
        "id": "6fbmkke-e27c",
        "outputId": "56ee9715-fe1e-4aed-8e78-a55e62e51d23"
      },
      "source": [
        "# Varianta 5\r\n",
        "black_list = []\r\n",
        "slovnik = {}\r\n",
        "for name in list_jmen:\r\n",
        "  if name not in slovnik:\r\n",
        "    slovnik[name] = list_jmen.count(name)\r\n",
        "slovnik"
      ],
      "execution_count": null,
      "outputs": [
        {
          "output_type": "execute_result",
          "data": {
            "text/plain": [
              "{}"
            ]
          },
          "metadata": {
            "tags": []
          },
          "execution_count": 56
        }
      ]
    },
    {
      "cell_type": "code",
      "metadata": {
        "colab": {
          "base_uri": "https://localhost:8080/"
        },
        "id": "WWEWJx1fgiZN",
        "outputId": "6a994c93-9812-47c7-9899-ba7914c6e2c2"
      },
      "source": [
        "text1 = \"\"\"In the past, I have been manually keying in the financial data for stocks into Excel and then generate charts to visualize the data. This has taken up a lot of time and it’s very prone to human error.\r\n",
        "Recently, I came to realize that Google Apps Script may be the rescue and possibly reduces all the manual work and thus automating the process of filling in financial data and generating charts.\"\"\"\r\n",
        "\r\n",
        "text2 = \"\"\"The above shows the entry point that prompts dialog to accept user’s input and further validate the input before calling the API to retrieve the stock price quote. The first prompts for the stock code, followed by the time series (whether it’s 1-min, 5-min, 15-min, hourly or daily) and the number of data points. As the number of data points that will be returned can go up to thousands and this will result in very slow Google Sheet, we are adding this field with a warning to indicate that high number can cause slowness.\"\"\"\r\n",
        "\r\n",
        "# pro vsechny texty vytvor slovnik, ve kterem bude slovnik:\r\n",
        "# 1) Poctu jednotlivych slov, \r\n",
        "# 2) List slov zacinajici na \"b\" \r\n",
        "# 3) Pocet slov s delkou 4.\r\n",
        "# 4) Moznost vyberu pismena a delky slova\r\n",
        "\r\n",
        "slovnik = {}\r\n",
        "for i, text in enumerate((text1, text2)):\r\n",
        "  ocisteny_list_slov = []\r\n",
        "  for slovo in text.split(\" \"):\r\n",
        "    ocisteny_list_slov.append(slovo.strip(\",.!?()\"))\r\n",
        "  slovnik[f\"text{i}\"] = {\"pocet_slov\": len(ocisteny_list_slov)}\r\n",
        "\r\n",
        "  \r\n",
        "\r\n",
        "\r\n"
      ],
      "execution_count": null,
      "outputs": [
        {
          "output_type": "stream",
          "text": [
            "text0 ['In', 'the', 'past', 'I', 'have', 'been', 'manually', 'keying', 'in', 'the', 'financial', 'data', 'for', 'stocks', 'into', 'Excel', 'and', 'then', 'generate', 'charts', 'to', 'visualize', 'the', 'data', 'This', 'has', 'taken', 'up', 'a', 'lot', 'of', 'time', 'and', 'it’s', 'very', 'prone', 'to', 'human', 'error.\\nRecently', 'I', 'came', 'to', 'realize', 'that', 'Google', 'Apps', 'Script', 'may', 'be', 'the', 'rescue', 'and', 'possibly', 'reduces', 'all', 'the', 'manual', 'work', 'and', 'thus', 'automating', 'the', 'process', 'of', 'filling', 'in', 'financial', 'data', 'and', 'generating', 'charts']\n",
            "text1 ['The', 'above', 'shows', 'the', 'entry', 'point', 'that', 'prompts', 'dialog', 'to', 'accept', 'user’s', 'input', 'and', 'further', 'validate', 'the', 'input', 'before', 'calling', 'the', 'API', 'to', 'retrieve', 'the', 'stock', 'price', 'quote', 'The', 'first', 'prompts', 'for', 'the', 'stock', 'code', 'followed', 'by', 'the', 'time', 'series', 'whether', 'it’s', '1-min', '5-min', '15-min', 'hourly', 'or', 'daily', 'and', 'the', 'number', 'of', 'data', 'points', 'As', 'the', 'number', 'of', 'data', 'points', 'that', 'will', 'be', 'returned', 'can', 'go', 'up', 'to', 'thousands', 'and', 'this', 'will', 'result', 'in', 'very', 'slow', 'Google', 'Sheet', 'we', 'are', 'adding', 'this', 'field', 'with', 'a', 'warning', 'to', 'indicate', 'that', 'high', 'number', 'can', 'cause', 'slowness']\n"
          ],
          "name": "stdout"
        }
      ]
    },
    {
      "cell_type": "markdown",
      "metadata": {
        "id": "7E6AWxepHBJu"
      },
      "source": [
        "# Lekce 7"
      ]
    },
    {
      "cell_type": "markdown",
      "metadata": {
        "id": "OcgFJiIoIF6h"
      },
      "source": [
        "Funkce"
      ]
    },
    {
      "cell_type": "code",
      "metadata": {
        "id": "c2k06jVeHpf7"
      },
      "source": [
        "\"text\".title()\r\n",
        "help(str)"
      ],
      "execution_count": null,
      "outputs": []
    },
    {
      "cell_type": "markdown",
      "metadata": {
        "id": "7kufcQdXIuFY"
      },
      "source": [
        "1. Built-In funkce"
      ]
    },
    {
      "cell_type": "code",
      "metadata": {
        "colab": {
          "base_uri": "https://localhost:8080/"
        },
        "id": "AfaGaZJfJ6Wl",
        "outputId": "281436d0-8ea7-4255-e76f-75a0dabe66ea"
      },
      "source": [
        "sum([1,2,3,4,5]) # To co je () se nazývá argument funkce"
      ],
      "execution_count": null,
      "outputs": [
        {
          "output_type": "execute_result",
          "data": {
            "text/plain": [
              "15"
            ]
          },
          "metadata": {
            "tags": []
          },
          "execution_count": 10
        }
      ]
    },
    {
      "cell_type": "code",
      "metadata": {
        "colab": {
          "base_uri": "https://localhost:8080/",
          "height": 209
        },
        "id": "rXYI26_uIv5g",
        "outputId": "60308d5d-a206-4ad2-a5ae-13a7afeb6d28"
      },
      "source": [
        "sum(), dir(), type(), help(),int(), tuple(), dict(), max(), main() "
      ],
      "execution_count": null,
      "outputs": [
        {
          "output_type": "error",
          "ename": "TypeError",
          "evalue": "ignored",
          "traceback": [
            "\u001b[0;31m---------------------------------------------------------------------------\u001b[0m",
            "\u001b[0;31mTypeError\u001b[0m                                 Traceback (most recent call last)",
            "\u001b[0;32m<ipython-input-11-0b08e8027676>\u001b[0m in \u001b[0;36m<module>\u001b[0;34m()\u001b[0m\n\u001b[0;32m----> 1\u001b[0;31m \u001b[0msum\u001b[0m\u001b[0;34m(\u001b[0m\u001b[0;34m)\u001b[0m\u001b[0;34m,\u001b[0m \u001b[0mdir\u001b[0m\u001b[0;34m(\u001b[0m\u001b[0;34m)\u001b[0m\u001b[0;34m,\u001b[0m \u001b[0mtype\u001b[0m\u001b[0;34m(\u001b[0m\u001b[0;34m)\u001b[0m\u001b[0;34m,\u001b[0m \u001b[0mhelp\u001b[0m\u001b[0;34m(\u001b[0m\u001b[0;34m)\u001b[0m\u001b[0;34m,\u001b[0m\u001b[0mint\u001b[0m\u001b[0;34m(\u001b[0m\u001b[0;34m)\u001b[0m\u001b[0;34m,\u001b[0m \u001b[0mtuple\u001b[0m\u001b[0;34m(\u001b[0m\u001b[0;34m)\u001b[0m\u001b[0;34m,\u001b[0m \u001b[0mdict\u001b[0m\u001b[0;34m(\u001b[0m\u001b[0;34m)\u001b[0m\u001b[0;34m,\u001b[0m \u001b[0mmax\u001b[0m\u001b[0;34m(\u001b[0m\u001b[0;34m)\u001b[0m\u001b[0;34m,\u001b[0m \u001b[0mmain\u001b[0m\u001b[0;34m(\u001b[0m\u001b[0;34m)\u001b[0m\u001b[0;34m\u001b[0m\u001b[0;34m\u001b[0m\u001b[0m\n\u001b[0m",
            "\u001b[0;31mTypeError\u001b[0m: sum expected at least 1 arguments, got 0"
          ]
        }
      ]
    },
    {
      "cell_type": "markdown",
      "metadata": {
        "id": "SMQJW58sKOeU"
      },
      "source": [
        "2. Metody"
      ]
    },
    {
      "cell_type": "code",
      "metadata": {
        "id": "mYoBwrhXKQZP"
      },
      "source": [
        "\"text\".title() # Vážou se k jednotlivým datovým typům"
      ],
      "execution_count": null,
      "outputs": []
    },
    {
      "cell_type": "markdown",
      "metadata": {
        "id": "Ja793Zp1KY_F"
      },
      "source": [
        "Vlastní funkce a jejich definice:\r\n",
        "\r\n",
        "Funkce si dělám proto abych třeba 50x nemusel psát to samé - vytvořím si novou funkci"
      ]
    },
    {
      "cell_type": "code",
      "metadata": {
        "id": "So8XkxOGKfRA"
      },
      "source": [
        "# Vyhrazené příkazy - vždycky po nich přichází dvojtečka a blok.\r\n",
        "for\r\n",
        "while\r\n",
        "with\r\n",
        "def\r\n",
        "if\r\n",
        "elif\r\n",
        "else"
      ],
      "execution_count": null,
      "outputs": []
    },
    {
      "cell_type": "code",
      "metadata": {
        "id": "qlKLpIDtKn1x"
      },
      "source": [
        "def prvni_funkce():\r\n",
        "  print(\"Tohle je moje prvni funkce\")"
      ],
      "execution_count": null,
      "outputs": []
    },
    {
      "cell_type": "code",
      "metadata": {
        "colab": {
          "base_uri": "https://localhost:8080/"
        },
        "id": "bZwRxM3uKw9P",
        "outputId": "7084e08a-8f4c-4822-f455-4dc3879abd8a"
      },
      "source": [
        "prvni_funkce()"
      ],
      "execution_count": null,
      "outputs": [
        {
          "output_type": "stream",
          "text": [
            "Tohle je moje prvni funkce\n"
          ],
          "name": "stdout"
        }
      ]
    },
    {
      "cell_type": "code",
      "metadata": {
        "id": "-s1unNTNLpcB"
      },
      "source": [
        "# Pojdme si nadefinovat funkci souctu\r\n",
        "# Pozn: parametry funkce se nemusi jmenovat stejne jako argumenty funkce\r\n",
        "# Tato funkce nic nevrací, pouze vypisuje\r\n",
        "def soucet(a,b):      # a,b - parametry funkce\r\n",
        "  print(a+b)\r\n",
        "\r\n",
        "cislo1 = 20\r\n",
        "cislo2 = 30\r\n",
        "\r\n",
        "soucet(cislo1,cislo2) # cislo1,cislo2 - argumenty funkce"
      ],
      "execution_count": null,
      "outputs": []
    },
    {
      "cell_type": "code",
      "metadata": {
        "colab": {
          "base_uri": "https://localhost:8080/"
        },
        "id": "GnpZcuwXNX3O",
        "outputId": "2b3db851-0cad-4b50-f97a-e05e9e731a23"
      },
      "source": [
        "vysledek_souctu = soucet(cislo1, cislo2)\r\n",
        "print(vysledek_souctu) # Všimni si, že výsledkem je 50 a NONE protože funknce nic nevrací"
      ],
      "execution_count": null,
      "outputs": [
        {
          "output_type": "stream",
          "text": [
            "50\n",
            "None\n"
          ],
          "name": "stdout"
        }
      ]
    },
    {
      "cell_type": "code",
      "metadata": {
        "id": "OEhBarBMMIyN"
      },
      "source": [
        "print(\"Ahoj\") # Tohle se navchází v nejvýšším tzv. globálním prostoru\r\n",
        "def suma(list_cisel):\r\n",
        "  vysledek = 0 # Nadefinuje prazdnou promennou - lokální prostor pro for cyklus je to globální prostor\r\n",
        "  for i in list_cisel:\r\n",
        "    vysledek +=i\r\n",
        "  return vysledek # RETURN vrací hodnotu mimo funkci "
      ],
      "execution_count": null,
      "outputs": []
    },
    {
      "cell_type": "code",
      "metadata": {
        "colab": {
          "base_uri": "https://localhost:8080/"
        },
        "id": "4IMGvC5wNn1k",
        "outputId": "a62d5c88-5e09-4b07-bd5e-b52313d56fe4"
      },
      "source": [
        "suma_cisel=suma(list(range(10)))\r\n",
        "suma_cisel"
      ],
      "execution_count": null,
      "outputs": [
        {
          "output_type": "execute_result",
          "data": {
            "text/plain": [
              "45"
            ]
          },
          "metadata": {
            "tags": []
          },
          "execution_count": 31
        }
      ]
    },
    {
      "cell_type": "markdown",
      "metadata": {
        "id": "SptEyfHaRRgo"
      },
      "source": [
        "Rozdíl mezi lokálním a globálním prostorem.\r\n",
        "\r\n",
        "Všimni si, že první proměnná je v globálním prostoru a druhá se stejným názvem je v lokálním prostoru - jedná se tedy o dvě různé proměnné."
      ]
    },
    {
      "cell_type": "code",
      "metadata": {
        "id": "zgxdmo-JPxvI",
        "colab": {
          "base_uri": "https://localhost:8080/"
        },
        "outputId": "32529bac-a04b-4f51-ae6c-9438857112d8"
      },
      "source": [
        "vysledek = 100  # globalni prostor\r\n",
        "print(\"Ahoj\") # globalni prostor\r\n",
        "\r\n",
        "def suma(list_cisel):\r\n",
        "  vysledek = 0 # Nadefinuje prazdnou promennou - lokální prostor pro for cyklus je to globální prostor\r\n",
        "  for i in list_cisel:\r\n",
        "    vysledek +=i\r\n",
        "  print(vysledek)\r\n",
        "print(suma(list(range(10))))\r\n",
        "print(vysledek)"
      ],
      "execution_count": null,
      "outputs": [
        {
          "output_type": "stream",
          "text": [
            "Ahoj\n",
            "45\n",
            "None\n",
            "100\n"
          ],
          "name": "stdout"
        }
      ]
    },
    {
      "cell_type": "code",
      "metadata": {
        "colab": {
          "base_uri": "https://localhost:8080/"
        },
        "id": "eclV3wGIRtJn",
        "outputId": "812ea6d9-3ece-4019-c536-ada114f35e5a"
      },
      "source": [
        "text = \"Ahoj\"\r\n",
        "def prevod_textu(zadany_text):\r\n",
        "  text = \"\" # Lokalni promenna uvnitr funkce\r\n",
        "  for znak in zadany_text:\r\n",
        "    if znak.isupper():\r\n",
        "      text = text + znak.lower()\r\n",
        "    elif znak.islower():\r\n",
        "      text += znak.upper()\r\n",
        "  return text\r\n",
        "\r\n",
        "print(prevod_textu(text))\r\n",
        "print(text) # Puvodni promenna z globalniho prostoru zustala nezmenena                \r\n"
      ],
      "execution_count": null,
      "outputs": [
        {
          "output_type": "stream",
          "text": [
            "aHOJ\n",
            "Ahoj\n"
          ],
          "name": "stdout"
        }
      ]
    },
    {
      "cell_type": "code",
      "metadata": {
        "id": "iQ74AFcwTW32"
      },
      "source": [
        "\r\n",
        "def soucet (a,b):\r\n",
        "  return a + b\r\n",
        "\r\n",
        "def rozdil (a,b):\r\n",
        "  return a-b\r\n",
        "\r\n",
        "def mocnina(a,exponent):\r\n",
        "  return a**exponent\r\n",
        "\r\n",
        "cislo1 = int(input(\"Zadej první číslo:\"))\r\n",
        "cislo2 = int(input(\"Zadej druhé číslo:\"))\r\n",
        "volba = input(\"Zadej volbu:\")\r\n",
        "\r\n",
        "if volba == \"**\":\r\n",
        "  exponent = int(input(\"Zadej exponent\"))\r\n",
        "  print(mocnina(cislo1, exponent))\r\n",
        "elif volba == \"+\":\r\n",
        "  print(soucet(cislo1,cislo2))\r\n",
        "else:\r\n",
        "  print(\"Špatná volba\") "
      ],
      "execution_count": null,
      "outputs": []
    },
    {
      "cell_type": "markdown",
      "metadata": {
        "id": "rAX5ZHpRaeiD"
      },
      "source": [
        "# Lekce 8"
      ]
    },
    {
      "cell_type": "code",
      "metadata": {
        "colab": {
          "base_uri": "https://localhost:8080/"
        },
        "id": "cxsTlPekbIdH",
        "outputId": "68e52c0b-3ecd-4660-a952-3a3d3a5b2905"
      },
      "source": [
        "# Jak vypsat všechna čísla dělitelná 2 - ukázka bez funkcí\r\n",
        "start = 1\r\n",
        "stop = 10\r\n",
        "divisor = 2\r\n",
        "cisla = []\r\n",
        "for i in range(start,stop):\r\n",
        "  if i % divisor == 0:\r\n",
        "    cisla.append(i)\r\n",
        "print(cisla)"
      ],
      "execution_count": null,
      "outputs": [
        {
          "output_type": "stream",
          "text": [
            "[2, 4, 6, 8]\n"
          ],
          "name": "stdout"
        }
      ]
    },
    {
      "cell_type": "code",
      "metadata": {
        "id": "hgkunMYlbsQU"
      },
      "source": [
        "def cisla_delitelna(start,stop,divisor):\r\n",
        "  cisla = []\r\n",
        "  for i in range(start,stop):\r\n",
        "    if i % divisor == 0:\r\n",
        "      cisla.append(i)\r\n",
        "  return cisla            # Dávej pozor na odsazení return\r\n",
        "# Nyni zavolame funkci\r\n",
        "print(cisla_delitelna(1,10,2))\r\n",
        "\r\n",
        "\r\n"
      ],
      "execution_count": null,
      "outputs": []
    },
    {
      "cell_type": "code",
      "metadata": {
        "id": "Tz5NG__3dwGs"
      },
      "source": [
        "cisla_delitelna(stop=10, start=1, divisor=3)"
      ],
      "execution_count": null,
      "outputs": []
    },
    {
      "cell_type": "code",
      "metadata": {
        "colab": {
          "base_uri": "https://localhost:8080/"
        },
        "id": "ogZ9Rew4d2u5",
        "outputId": "f48ad9f5-7315-4806-8b68-c0a5695a5b2d"
      },
      "source": [
        "# Funkce která vezme list a vytáhne první písmena jmen a spojí je do jednoho textu\r\n",
        "list_jmen = [\"Tomas\", \"Oto\",\"Petr\",\"Honza\"]\r\n",
        "\r\n",
        "def text_prvnich_pismen(list):\r\n",
        "  vystupni_text = \"\"\r\n",
        "  for item in list_jmen:\r\n",
        "    pocatecni_pismeno = item[0]\r\n",
        "    vystupni_text += pocatecni_pismeno\r\n",
        "  return vystupni_text\r\n",
        "\r\n",
        "print(text_prvnich_pismen(list_jmen))"
      ],
      "execution_count": null,
      "outputs": [
        {
          "output_type": "stream",
          "text": [
            "TOPH\n"
          ],
          "name": "stdout"
        }
      ]
    },
    {
      "cell_type": "markdown",
      "metadata": {
        "id": "xnxeZTbMgb9r"
      },
      "source": [
        "Komplexní projekt"
      ]
    },
    {
      "cell_type": "code",
      "metadata": {
        "id": "my5nnR5ufNeC"
      },
      "source": [
        "def zadej_informace():\r\n",
        "  jmeno, prijmeni, vek = input(\"Zadej jméno, příjmení a věk uživatele (rozděl čárkou): \").split(\",\")\r\n",
        "  return jmeno, prijmeni, vek # Vracím 3 informace\r\n",
        "\r\n",
        "def vytvor_soubor(jmeno_souboru,hlavicka):\r\n",
        "  with open(jmeno_souboru, mode =\"w\") as file:\r\n",
        "    jmeno, prijmeni, vek = hlavicka\r\n",
        "    text = f\"{jmeno},{prijmeni},{vek}\" + \"\\n\"\r\n",
        "    file.writelines(text)\r\n",
        "\r\n",
        "def zapis_do_souboru(jmeno_souboru,zapisuji):\r\n",
        "  with open(jmeno_souboru, mode =\"w\") as file:\r\n",
        "    jmeno, prijmeni, vek = zapisuji\r\n",
        "    text = f\"{jmeno},{prijmeni},{vek}\" + \"\\n\"\r\n",
        "    file.writelines(text)\r\n",
        "\r\n",
        "def nahraj_csv_soubor(jmeno_souboru):\r\n",
        "  with open(jmeno_souboru,mode=\"r\") as file:\r\n",
        "    data = file.readlines()\r\n",
        "  return data\r\n",
        "\r\n",
        "def hlavni():       # Definice hlavní funkce\r\n",
        "  mode = input(\"Co chces delat? (Zapisovat -> z) nebo (Pracovat s daty -> p)\").lower()\r\n",
        "\r\n",
        "  if mode == \"z\":\r\n",
        "    vytvorit = input(\"Chces vytvorit soubor(y) nebo už existuje(e\").lower()\r\n",
        "    if vytvorit == \"y\" :\r\n",
        "      jmeno_souboru = input(\"Zadej jmeno souboru i s .csv\")\r\n",
        "      vytvor_soubor(jmeno_souboru, hlavicka = [\"jmeno\",\"prijmeni\",\"vek\"])\r\n",
        "      print(f\"Vytvořil jsem soubor {jmeno_souboru}\")\r\n",
        "    \r\n",
        "    elif vytvorit == \"e\":\r\n",
        "      jmeno_souboru = \"ucitele.csv\"\r\n",
        "      list_pro_zapis = zadej_informaci()\r\n",
        "      zapis_do_souboru(jmeno_souboru, list_pro_zapis)\r\n",
        "    \r\n",
        "    else:\r\n",
        "      print(\"Něco se nepovedlo\")\r\n",
        "  \r\n"
      ],
      "execution_count": null,
      "outputs": []
    },
    {
      "cell_type": "code",
      "metadata": {
        "colab": {
          "base_uri": "https://localhost:8080/"
        },
        "id": "qKRAUw2mmAAO",
        "outputId": "e9a78555-465f-46f4-a8bd-8431802cbde4"
      },
      "source": [
        "(hlavni()"
      ],
      "execution_count": null,
      "outputs": [
        {
          "output_type": "stream",
          "text": [
            "Co chces delat? (Zapisovat -> z) nebo (Pracovat s daty -> p)z\n",
            "Chces vytvorit soubor(y) nebo už existuje(ee\n",
            "Něco se nepovedlo\n"
          ],
          "name": "stdout"
        }
      ]
    }
  ]
}